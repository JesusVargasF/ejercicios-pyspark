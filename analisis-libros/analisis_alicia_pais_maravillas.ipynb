{
 "cells": [
  {
   "cell_type": "markdown",
   "id": "56063800-4430-477c-914d-3d18ab0534f8",
   "metadata": {},
   "source": [
    "## **USO DE SPARK CON EL LIBRO DE ALICIA**"
   ]
  },
  {
   "cell_type": "code",
   "execution_count": 3,
   "id": "aa80c086-e4ec-4007-8c24-80f55bfd98db",
   "metadata": {},
   "outputs": [],
   "source": [
    "from pyspark.sql import SparkSession"
   ]
  },
  {
   "cell_type": "code",
   "execution_count": 5,
   "id": "e13d8287-d21d-4982-b9f0-80709eb295a4",
   "metadata": {},
   "outputs": [],
   "source": [
    "from pyspark.sql.functions import explode, split, col, regexp_replace, replace, size"
   ]
  },
  {
   "cell_type": "code",
   "execution_count": 7,
   "id": "c90f9ee6-2da7-445e-a25e-bd9aceb294c6",
   "metadata": {},
   "outputs": [],
   "source": [
    "import requests"
   ]
  },
  {
   "cell_type": "code",
   "execution_count": 8,
   "id": "1466d464-b179-44a2-8f9b-b250ff52e004",
   "metadata": {},
   "outputs": [],
   "source": [
    "spark = SparkSession.builder.appName(\"Analisis libro\").getOrCreate()"
   ]
  },
  {
   "cell_type": "code",
   "execution_count": 9,
   "id": "8542622c-e669-481c-8a0d-ad28e6e20f69",
   "metadata": {},
   "outputs": [],
   "source": [
    "url = \"https://www.gutenberg.org/cache/epub/28885/pg28885.txt\""
   ]
  },
  {
   "cell_type": "code",
   "execution_count": 11,
   "id": "4f5c39f2-4734-40eb-baf4-160d334b49ba",
   "metadata": {},
   "outputs": [],
   "source": [
    "response = requests.get(url)\n",
    "libro_texto = response.text"
   ]
  },
  {
   "cell_type": "code",
   "execution_count": 12,
   "id": "c436dd03-2d84-4949-bd56-e88faf0b039c",
   "metadata": {},
   "outputs": [],
   "source": [
    "with open(\"libro.txt\", \"w\", encoding=\"utf-8\") as file:\n",
    "    file.write(libro_texto)"
   ]
  },
  {
   "cell_type": "code",
   "execution_count": 14,
   "id": "16b8a689-53ac-4916-9bd1-51f9302d8ae6",
   "metadata": {},
   "outputs": [],
   "source": [
    "rdd = spark.sparkContext.textFile(\"libro.txt\")"
   ]
  },
  {
   "cell_type": "code",
   "execution_count": 16,
   "id": "c97f3d08-2d17-4e7c-91d2-48800e2ce36c",
   "metadata": {},
   "outputs": [],
   "source": [
    "rdd = rdd.filter(lambda line: line.strip() !=\"\")"
   ]
  },
  {
   "cell_type": "code",
   "execution_count": 17,
   "id": "e1007705-02f2-4258-90e1-f538559e17a9",
   "metadata": {},
   "outputs": [],
   "source": [
    "capitulos = rdd.filter(lambda line: line.strip().startswith(\"CHAPTER\")).collect()\n",
    "parrafos = rdd.flatMap(lambda line: line.split(\"\\n\\n\"))"
   ]
  },
  {
   "cell_type": "code",
   "execution_count": 18,
   "id": "f8c6d792-4c88-4483-bbfd-6cda649c5522",
   "metadata": {},
   "outputs": [
    {
     "name": "stdout",
     "output_type": "stream",
     "text": [
      "+--------------------+\n",
      "|             parrafo|\n",
      "+--------------------+\n",
      "|The Project Guten...|\n",
      "|This ebook is for...|\n",
      "|most other parts ...|\n",
      "|whatsoever. You m...|\n",
      "|of the Project Gu...|\n",
      "|at www.gutenberg....|\n",
      "|you will have to ...|\n",
      "|before using this...|\n",
      "|Title: Alice's Ad...|\n",
      "|Author: Lewis Car...|\n",
      "|Contributor: Aust...|\n",
      "|Illustrator: Arth...|\n",
      "|Release date: May...|\n",
      "|                M...|\n",
      "|   Language: English|\n",
      "|Credits: Produced...|\n",
      "|        Proofread...|\n",
      "|        produced ...|\n",
      "|        Universit...|\n",
      "|*** START OF THE ...|\n",
      "+--------------------+\n",
      "only showing top 20 rows\n",
      "\n"
     ]
    }
   ],
   "source": [
    "df_parrafos = parrafos.map(lambda p: (p,)).toDF([\"parrafo\"])\n",
    "df_parrafos.show()"
   ]
  },
  {
   "cell_type": "code",
   "execution_count": 19,
   "id": "003663ec-a1c8-4a9d-91e7-45db01628a55",
   "metadata": {},
   "outputs": [],
   "source": [
    "df_parrafos = df_parrafos.withColumn(\"parrafo_limpio\", regexp_replace(col(\"parrafo\"), \"[^a-zA-Z\\s]\", \"\").alias(\"parrafo_limpio\"))\n",
    "df_parrafos = df_parrafos.withColumn(\"parrafo_limpio\", regexp_replace(col(\"parrafo_limpio\"), \"\\s+\", \" \").alias(\"parrafo_limpio\"))"
   ]
  },
  {
   "cell_type": "code",
   "execution_count": 20,
   "id": "ee33b771-c5b8-44e2-8f20-603ab3f86bae",
   "metadata": {},
   "outputs": [],
   "source": [
    "df_parrafos = df_parrafos.withColumn(\"oraciones\", split(col(\"parrafo_limpio\"), \"\\.\"))\n",
    "df_parrafos = df_parrafos.withColumn(\"num_oraciones\", size(col(\"oraciones\")))\n",
    "df_parrafos = df_parrafos.withColumn(\"palabras\", split(col(\"parrafo_limpio\"), \" \"))\n",
    "df_parrafos = df_parrafos.withColumn(\"num_palabras\", size(col(\"palabras\")))"
   ]
  },
  {
   "cell_type": "code",
   "execution_count": 22,
   "id": "909766c9-88e2-424e-956e-c5cdfa7ddf93",
   "metadata": {},
   "outputs": [
    {
     "name": "stdout",
     "output_type": "stream",
     "text": [
      "+--------------------+--------------------+--------------------+-------------+--------------------+------------+\n",
      "|             parrafo|      parrafo_limpio|           oraciones|num_oraciones|            palabras|num_palabras|\n",
      "+--------------------+--------------------+--------------------+-------------+--------------------+------------+\n",
      "|The Project Guten...|The Project Guten...|[The Project Gute...|            1|[The, Project, Gu...|           9|\n",
      "|This ebook is for...|This ebook is for...|[This ebook is fo...|            1|[This, ebook, is,...|          14|\n",
      "|most other parts ...|most other parts ...|[most other parts...|            1|[most, other, par...|          14|\n",
      "|whatsoever. You m...|whatsoever You ma...|[whatsoever You m...|            1|[whatsoever, You,...|          14|\n",
      "|of the Project Gu...|of the Project Gu...|[of the Project G...|            1|[of, the, Project...|          11|\n",
      "|at www.gutenberg....|at wwwgutenbergor...|[at wwwgutenbergo...|            1|[at, wwwgutenberg...|          11|\n",
      "|you will have to ...|you will have to ...|[you will have to...|            1|[you, will, have,...|          14|\n",
      "|before using this...|before using this...|[before using thi...|            1|[before, using, t...|           4|\n",
      "|Title: Alice's Ad...|Title Alices Adve...|[Title Alices Adv...|            1|[Title, Alices, A...|           5|\n",
      "|Author: Lewis Car...|Author Lewis Carroll|[Author Lewis Car...|            1|[Author, Lewis, C...|           3|\n",
      "|Contributor: Aust...|Contributor Austi...|[Contributor Aust...|            1|[Contributor, Aus...|           3|\n",
      "|Illustrator: Arth...|Illustrator Arthu...|[Illustrator Arth...|            1|[Illustrator, Art...|           3|\n",
      "|Release date: May...|Release date May ...|[Release date May...|            1|[Release, date, M...|           5|\n",
      "|                M...| Most recently up...|[ Most recently u...|            1|[, Most, recently...|           6|\n",
      "|   Language: English|    Language English|  [Language English]|            1| [Language, English]|           2|\n",
      "|Credits: Produced...|Credits Produced ...|[Credits Produced...|            1|[Credits, Produce...|          10|\n",
      "|        Proofread...| Proofreading Tea...|[ Proofreading Te...|            1|[, Proofreading, ...|           8|\n",
      "|        produced ...| produced from im...|[ produced from i...|            1|[, produced, from...|           9|\n",
      "|        Universit...| University of Fl...|[ University of F...|            1|[, University, of...|           6|\n",
      "|*** START OF THE ...| START OF THE PRO...|[ START OF THE PR...|            1|[, START, OF, THE...|          12|\n",
      "+--------------------+--------------------+--------------------+-------------+--------------------+------------+\n",
      "only showing top 20 rows\n",
      "\n"
     ]
    }
   ],
   "source": [
    "df_parrafos.show()"
   ]
  },
  {
   "cell_type": "code",
   "execution_count": null,
   "id": "3aa592a5-ebac-4e08-b879-75922cdb6df4",
   "metadata": {},
   "outputs": [],
   "source": []
  }
 ],
 "metadata": {
  "kernelspec": {
   "display_name": "Python 3 (ipykernel)",
   "language": "python",
   "name": "python3"
  },
  "language_info": {
   "codemirror_mode": {
    "name": "ipython",
    "version": 3
   },
   "file_extension": ".py",
   "mimetype": "text/x-python",
   "name": "python",
   "nbconvert_exporter": "python",
   "pygments_lexer": "ipython3",
   "version": "3.11.6"
  }
 },
 "nbformat": 4,
 "nbformat_minor": 5
}
