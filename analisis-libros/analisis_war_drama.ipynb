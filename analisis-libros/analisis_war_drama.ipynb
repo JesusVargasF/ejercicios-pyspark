{
 "cells": [
  {
   "cell_type": "markdown",
   "id": "9d30368a-fc52-4996-8f90-c493ac743113",
   "metadata": {},
   "source": [
    "## **USO DE SPARK CON EL LIBRO DE THE WAR DRAMA OF THE EAGLES**"
   ]
  },
  {
   "cell_type": "code",
   "execution_count": 2,
   "id": "29a3b191-82eb-4038-82ee-08c2a37201b2",
   "metadata": {},
   "outputs": [],
   "source": [
    "from pyspark.sql import SparkSession\n",
    "from pyspark.sql.functions import explode, split, col, regexp_replace, replace, size\n",
    "import requests"
   ]
  },
  {
   "cell_type": "code",
   "execution_count": 3,
   "id": "833f5950-b741-4699-a68c-742954506e84",
   "metadata": {},
   "outputs": [],
   "source": [
    "spark = SparkSession.builder.appName(\"Analisis libro\").getOrCreate()"
   ]
  },
  {
   "cell_type": "code",
   "execution_count": 4,
   "id": "9bdb9440-64a2-4dfa-9dfd-8536b0113258",
   "metadata": {},
   "outputs": [],
   "source": [
    "url = \"https://www.gutenberg.org/cache/epub/75293/pg75293.txt\""
   ]
  },
  {
   "cell_type": "code",
   "execution_count": 5,
   "id": "2fff9acd-7c17-40f5-be60-8da1a008d1ac",
   "metadata": {},
   "outputs": [],
   "source": [
    "response = requests.get(url)\n",
    "libro_texto = response.text"
   ]
  },
  {
   "cell_type": "code",
   "execution_count": 6,
   "id": "4113d520-adac-4b3c-a690-81f7be5be7cb",
   "metadata": {},
   "outputs": [],
   "source": [
    "with open(\"libro.txt\", \"w\", encoding=\"utf-8\") as file:\n",
    "    file.write(libro_texto)"
   ]
  },
  {
   "cell_type": "code",
   "execution_count": 7,
   "id": "7b2c1dc2-c8e6-4327-ad1c-b67010bda5ce",
   "metadata": {},
   "outputs": [],
   "source": [
    "rdd = spark.sparkContext.textFile(\"libro.txt\")"
   ]
  },
  {
   "cell_type": "code",
   "execution_count": 8,
   "id": "c5a990b5-9f3b-4f45-917d-60a89da5c3ab",
   "metadata": {},
   "outputs": [],
   "source": [
    "rdd = rdd.filter(lambda line: line.strip() !=\"\")"
   ]
  },
  {
   "cell_type": "code",
   "execution_count": 9,
   "id": "ca7a20b2-e1b0-4bd4-9b22-d9767085c152",
   "metadata": {},
   "outputs": [],
   "source": [
    "capitulos = rdd.filter(lambda line: line.strip().startswith(\"CHAPTER\")).collect()\n",
    "parrafos = rdd.flatMap(lambda line: line.split(\"\\n\\n\"))"
   ]
  },
  {
   "cell_type": "code",
   "execution_count": 12,
   "id": "a24ff78e-d7e9-456f-a12a-8718f4e2669d",
   "metadata": {},
   "outputs": [
    {
     "name": "stdout",
     "output_type": "stream",
     "text": [
      "+--------------------+\n",
      "|             parrafo|\n",
      "+--------------------+\n",
      "|The Project Guten...|\n",
      "|This ebook is for...|\n",
      "|most other parts ...|\n",
      "|whatsoever. You m...|\n",
      "|of the Project Gu...|\n",
      "|at www.gutenberg....|\n",
      "|you will have to ...|\n",
      "|before using this...|\n",
      "|Title: The war dr...|\n",
      "|        Napoleon'...|\n",
      "|Author: Edward Fr...|\n",
      "|Release date: Feb...|\n",
      "|   Language: English|\n",
      "|Original publicat...|\n",
      "|Credits: Brian Co...|\n",
      "|*** START OF THE ...|\n",
      "|Transcriber’s Not...|\n",
      "|notes will be fou...|\n",
      "|                 ...|\n",
      "|                 ...|\n",
      "|[Illustration: PO...|\n",
      "|     PARADE UNIFORM.|\n",
      "|From St. Hilaire’...|\n",
      "|                 ...|\n",
      "|                 ...|\n",
      "+--------------------+\n",
      "only showing top 25 rows\n",
      "\n"
     ]
    }
   ],
   "source": [
    "df_parrafos = parrafos.map(lambda p: (p,)).toDF([\"parrafo\"])\n",
    "df_parrafos.show(25)"
   ]
  },
  {
   "cell_type": "code",
   "execution_count": 13,
   "id": "5cf0818b-9d42-48c6-8952-43209ad677a3",
   "metadata": {},
   "outputs": [],
   "source": [
    "df_parrafos = df_parrafos.withColumn(\"parrafo_limpio\", regexp_replace(col(\"parrafo\"), \"[^a-zA-Z\\s]\", \"\").alias(\"parrafo_limpio\"))\n",
    "df_parrafos = df_parrafos.withColumn(\"parrafo_limpio\", regexp_replace(col(\"parrafo_limpio\"), \"\\s+\", \" \").alias(\"parrafo_limpio\"))"
   ]
  },
  {
   "cell_type": "code",
   "execution_count": 14,
   "id": "40bd96d6-c150-4c59-a5ed-748dcc393a94",
   "metadata": {},
   "outputs": [],
   "source": [
    "df_parrafos = df_parrafos.withColumn(\"oraciones\", split(col(\"parrafo_limpio\"), \"\\.\"))\n",
    "df_parrafos = df_parrafos.withColumn(\"num_oraciones\", size(col(\"oraciones\")))\n",
    "df_parrafos = df_parrafos.withColumn(\"palabras\", split(col(\"parrafo_limpio\"), \" \"))\n",
    "df_parrafos = df_parrafos.withColumn(\"num_palabras\", size(col(\"palabras\")))"
   ]
  },
  {
   "cell_type": "code",
   "execution_count": 15,
   "id": "aaa5ce69-7eb5-4274-8906-701f0a0d905e",
   "metadata": {},
   "outputs": [
    {
     "name": "stdout",
     "output_type": "stream",
     "text": [
      "+--------------------+--------------------+--------------------+-------------+--------------------+------------+\n",
      "|             parrafo|      parrafo_limpio|           oraciones|num_oraciones|            palabras|num_palabras|\n",
      "+--------------------+--------------------+--------------------+-------------+--------------------+------------+\n",
      "|The Project Guten...|The Project Guten...|[The Project Gute...|            1|[The, Project, Gu...|          11|\n",
      "|This ebook is for...|This ebook is for...|[This ebook is fo...|            1|[This, ebook, is,...|          14|\n",
      "|most other parts ...|most other parts ...|[most other parts...|            1|[most, other, par...|          14|\n",
      "|whatsoever. You m...|whatsoever You ma...|[whatsoever You m...|            1|[whatsoever, You,...|          14|\n",
      "|of the Project Gu...|of the Project Gu...|[of the Project G...|            1|[of, the, Project...|          11|\n",
      "|at www.gutenberg....|at wwwgutenbergor...|[at wwwgutenbergo...|            1|[at, wwwgutenberg...|          11|\n",
      "|you will have to ...|you will have to ...|[you will have to...|            1|[you, will, have,...|          14|\n",
      "|before using this...|before using this...|[before using thi...|            1|[before, using, t...|           4|\n",
      "|Title: The war dr...|Title The war dra...|[Title The war dr...|            1|[Title, The, war,...|           7|\n",
      "|        Napoleon'...| Napoleons standa...|[ Napoleons stand...|            1|[, Napoleons, sta...|          22|\n",
      "|Author: Edward Fr...|Author Edward Fraser|[Author Edward Fr...|            1|[Author, Edward, ...|           3|\n",
      "|Release date: Feb...|Release date Febr...|[Release date Feb...|            1|[Release, date, F...|           5|\n",
      "|   Language: English|    Language English|  [Language English]|            1| [Language, English]|           2|\n",
      "|Original publicat...|Original publicat...|[Original publica...|            1|[Original, public...|           6|\n",
      "|Credits: Brian Co...|Credits Brian Coe...|[Credits Brian Co...|            1|[Credits, Brian, ...|          24|\n",
      "|*** START OF THE ...| START OF THE PRO...|[ START OF THE PR...|            1|[, START, OF, THE...|          14|\n",
      "|Transcriber’s Not...|Transcribers Note...|[Transcribers Not...|            1|[Transcribers, No...|           8|\n",
      "|notes will be fou...|notes will be fou...|[notes will be fo...|            1|[notes, will, be,...|          10|\n",
      "|                 ...|       THE WAR DRAMA|    [ THE WAR DRAMA]|            1| [, THE, WAR, DRAMA]|           4|\n",
      "|                 ...|       OF THE EAGLES|    [ OF THE EAGLES]|            1| [, OF, THE, EAGLES]|           4|\n",
      "+--------------------+--------------------+--------------------+-------------+--------------------+------------+\n",
      "only showing top 20 rows\n",
      "\n"
     ]
    }
   ],
   "source": [
    "df_parrafos.show()"
   ]
  },
  {
   "cell_type": "code",
   "execution_count": null,
   "id": "6f1578be-50e9-480d-af7e-7bbe87afa5bd",
   "metadata": {},
   "outputs": [],
   "source": []
  }
 ],
 "metadata": {
  "kernelspec": {
   "display_name": "Python 3 (ipykernel)",
   "language": "python",
   "name": "python3"
  },
  "language_info": {
   "codemirror_mode": {
    "name": "ipython",
    "version": 3
   },
   "file_extension": ".py",
   "mimetype": "text/x-python",
   "name": "python",
   "nbconvert_exporter": "python",
   "pygments_lexer": "ipython3",
   "version": "3.11.6"
  }
 },
 "nbformat": 4,
 "nbformat_minor": 5
}
