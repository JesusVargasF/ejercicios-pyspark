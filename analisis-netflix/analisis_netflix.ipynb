{
  "cells": [
    {
      "cell_type": "markdown",
      "id": "58750f2d-38db-4b0c-8ae6-7b41fae95471",
      "metadata": {
        "id": "58750f2d-38db-4b0c-8ae6-7b41fae95471"
      },
      "source": [
        "# **Analisis de datos de Netflix extraidos de KAGGLE con PySpark**"
      ]
    },
    {
      "cell_type": "code",
      "execution_count": 48,
      "id": "2a36d7c4-29e3-4692-a262-5a030623ba12",
      "metadata": {
        "id": "2a36d7c4-29e3-4692-a262-5a030623ba12"
      },
      "outputs": [],
      "source": [
        "import tempfile\n",
        "from pyspark.sql import SparkSession\n",
        "\n",
        "spark = SparkSession.builder \\\n",
        "    .appName(\"Netflix Analsis\") \\\n",
        "    .master(\"local[*]\") \\\n",
        "    .config(\"spark.executor.memory\", \"4g\") \\\n",
        "    .config(\"spark.driver.memory\", \"2g\") \\\n",
        "    .config(\"spark.executor.cores\", \"2\") \\\n",
        "    .config(\"spark.serializer\", \"org.apache.spark.serializer.KryoSerializer\") \\\n",
        "    .config(\"spark.sql.files.maxPartitionBytes\", \"128MB\") \\\n",
        "    .config(\"spark.sql.shuffle.partitions\", \"200\") \\\n",
        "    .config(\"spark.sql.execution.arrow.enabled\", \"true\") \\\n",
        "    .getOrCreate()"
      ]
    },
    {
      "cell_type": "markdown",
      "id": "6b8c7c7a-af97-4cb3-9e52-15c38d702bb4",
      "metadata": {
        "id": "6b8c7c7a-af97-4cb3-9e52-15c38d702bb4"
      },
      "source": [
        "Leemos nuestro csv"
      ]
    },
    {
      "cell_type": "code",
      "execution_count": 49,
      "id": "9426d397-7e9c-4e2b-9041-94f3605d06f0",
      "metadata": {
        "id": "9426d397-7e9c-4e2b-9041-94f3605d06f0"
      },
      "outputs": [],
      "source": [
        "df_netflix = spark.read.csv(\"netflix_titles.csv\", header=True, inferSchema=True)"
      ]
    },
    {
      "cell_type": "code",
      "execution_count": 50,
      "id": "63504b4b-bb38-4b0e-87bb-ffe8e4b7ccf8",
      "metadata": {
        "colab": {
          "base_uri": "https://localhost:8080/"
        },
        "id": "63504b4b-bb38-4b0e-87bb-ffe8e4b7ccf8",
        "outputId": "a745424e-ac64-48a5-872d-aea478977e80"
      },
      "outputs": [
        {
          "output_type": "stream",
          "name": "stdout",
          "text": [
            "+-------+-------+--------------------+--------------------+--------------------+--------------------+------------------+------------+------+---------+--------------------+--------------------+\n",
            "|show_id|   type|               title|            director|                cast|             country|        date_added|release_year|rating| duration|           listed_in|         description|\n",
            "+-------+-------+--------------------+--------------------+--------------------+--------------------+------------------+------------+------+---------+--------------------+--------------------+\n",
            "|     s1|  Movie|Dick Johnson Is Dead|     Kirsten Johnson|                NULL|       United States|September 25, 2021|        2020| PG-13|   90 min|       Documentaries|As her father nea...|\n",
            "|     s2|TV Show|       Blood & Water|                NULL|Ama Qamata, Khosi...|        South Africa|September 24, 2021|        2021| TV-MA|2 Seasons|International TV ...|After crossing pa...|\n",
            "|     s3|TV Show|           Ganglands|     Julien Leclercq|Sami Bouajila, Tr...|                NULL|September 24, 2021|        2021| TV-MA| 1 Season|Crime TV Shows, I...|To protect his fa...|\n",
            "|     s4|TV Show|Jailbirds New Orl...|                NULL|                NULL|                NULL|September 24, 2021|        2021| TV-MA| 1 Season|Docuseries, Reali...|Feuds, flirtation...|\n",
            "|     s5|TV Show|        Kota Factory|                NULL|Mayur More, Jiten...|               India|September 24, 2021|        2021| TV-MA|2 Seasons|International TV ...|In a city of coac...|\n",
            "|     s6|TV Show|       Midnight Mass|       Mike Flanagan|Kate Siegel, Zach...|                NULL|September 24, 2021|        2021| TV-MA| 1 Season|TV Dramas, TV Hor...|The arrival of a ...|\n",
            "|     s7|  Movie|My Little Pony: A...|Robert Cullen, Jo...|Vanessa Hudgens, ...|                NULL|September 24, 2021|        2021|    PG|   91 min|Children & Family...|Equestria's divid...|\n",
            "|     s8|  Movie|             Sankofa|        Haile Gerima|Kofi Ghanaba, Oya...|United States, Gh...|September 24, 2021|        1993| TV-MA|  125 min|Dramas, Independe...|On a photo shoot ...|\n",
            "|     s9|TV Show|The Great British...|     Andy Devonshire|Mel Giedroyc, Sue...|      United Kingdom|September 24, 2021|        2021| TV-14|9 Seasons|British TV Shows,...|A talented batch ...|\n",
            "|    s10|  Movie|        The Starling|      Theodore Melfi|Melissa McCarthy,...|       United States|September 24, 2021|        2021| PG-13|  104 min|    Comedies, Dramas|A woman adjusting...|\n",
            "|    s11|TV Show|Vendetta: Truth, ...|                NULL|                NULL|                NULL|September 24, 2021|        2021| TV-MA| 1 Season|Crime TV Shows, D...|\"Sicily boasts a ...|\n",
            "|    s12|TV Show|    Bangkok Breaking|   Kongkiat Komesiri|Sukollawat Kanaro...|                NULL|September 23, 2021|        2021| TV-MA| 1 Season|Crime TV Shows, I...|Struggling to ear...|\n",
            "|    s13|  Movie|        Je Suis Karl| Christian Schwochow|Luna Wedler, Jann...|Germany, Czech Re...|September 23, 2021|        2021| TV-MA|  127 min|Dramas, Internati...|After most of her...|\n",
            "|    s14|  Movie|Confessions of an...|       Bruno Garotti|Klara Castanho, L...|                NULL|September 22, 2021|        2021| TV-PG|   91 min|Children & Family...|When the clever b...|\n",
            "|    s15|TV Show|Crime Stories: In...|                NULL|                NULL|                NULL|September 22, 2021|        2021| TV-MA| 1 Season|British TV Shows,...|Cameras following...|\n",
            "|    s16|TV Show|   Dear White People|                NULL|Logan Browning, B...|       United States|September 22, 2021|        2021| TV-MA|4 Seasons|TV Comedies, TV D...|\"Students of colo...|\n",
            "|    s17|  Movie|Europe's Most Dan...|Pedro de Echave G...|                NULL|                NULL|September 22, 2021|        2020| TV-MA|   67 min|Documentaries, In...|Declassified docu...|\n",
            "|    s18|TV Show|     Falsa identidad|                NULL|Luis Ernesto Fran...|              Mexico|September 22, 2021|        2020| TV-MA|2 Seasons|Crime TV Shows, S...|Strangers Diego a...|\n",
            "|    s19|  Movie|           Intrusion|          Adam Salky|Freida Pinto, Log...|                NULL|September 22, 2021|        2021| TV-14|   94 min|           Thrillers|After a deadly ho...|\n",
            "|    s20|TV Show|              Jaguar|                NULL|Blanca Suárez, Iv...|                NULL|September 22, 2021|        2021| TV-MA| 1 Season|International TV ...|In the 1960s, a H...|\n",
            "+-------+-------+--------------------+--------------------+--------------------+--------------------+------------------+------------+------+---------+--------------------+--------------------+\n",
            "only showing top 20 rows\n",
            "\n"
          ]
        }
      ],
      "source": [
        "df_netflix.show()"
      ]
    },
    {
      "cell_type": "markdown",
      "id": "7b1afbf1-3792-41e1-a4f8-5dd2fde0e03d",
      "metadata": {
        "id": "7b1afbf1-3792-41e1-a4f8-5dd2fde0e03d"
      },
      "source": [
        "Realizo una inspeccion del schema y las columnas de nuestros datos"
      ]
    },
    {
      "cell_type": "code",
      "execution_count": 51,
      "id": "9cc4d969-0a53-4e80-b290-565a51b37cf0",
      "metadata": {
        "colab": {
          "base_uri": "https://localhost:8080/"
        },
        "id": "9cc4d969-0a53-4e80-b290-565a51b37cf0",
        "outputId": "5bcf4d23-b321-41f8-eb0e-9bdf5d83784a"
      },
      "outputs": [
        {
          "output_type": "stream",
          "name": "stdout",
          "text": [
            "root\n",
            " |-- show_id: string (nullable = true)\n",
            " |-- type: string (nullable = true)\n",
            " |-- title: string (nullable = true)\n",
            " |-- director: string (nullable = true)\n",
            " |-- cast: string (nullable = true)\n",
            " |-- country: string (nullable = true)\n",
            " |-- date_added: string (nullable = true)\n",
            " |-- release_year: string (nullable = true)\n",
            " |-- rating: string (nullable = true)\n",
            " |-- duration: string (nullable = true)\n",
            " |-- listed_in: string (nullable = true)\n",
            " |-- description: string (nullable = true)\n",
            "\n"
          ]
        }
      ],
      "source": [
        "df_netflix.printSchema()"
      ]
    },
    {
      "cell_type": "code",
      "execution_count": 52,
      "id": "0723c245-d41d-4334-8c0a-75018862ed67",
      "metadata": {
        "colab": {
          "base_uri": "https://localhost:8080/"
        },
        "id": "0723c245-d41d-4334-8c0a-75018862ed67",
        "outputId": "73bc09dc-1f25-4c5e-ca92-ad998bd05c95"
      },
      "outputs": [
        {
          "output_type": "stream",
          "name": "stdout",
          "text": [
            "['show_id', 'type', 'title', 'director', 'cast', 'country', 'date_added', 'release_year', 'rating', 'duration', 'listed_in', 'description']\n"
          ]
        }
      ],
      "source": [
        "print(df_netflix.columns)"
      ]
    },
    {
      "cell_type": "code",
      "execution_count": 53,
      "id": "ceeea9e9-1e88-422d-8be4-bc88cad3d142",
      "metadata": {
        "id": "ceeea9e9-1e88-422d-8be4-bc88cad3d142"
      },
      "outputs": [],
      "source": [
        "from pyspark.sql.functions import col, count"
      ]
    },
    {
      "cell_type": "code",
      "execution_count": 54,
      "id": "a1189b3e-53b9-429e-b72e-3973bb0c7736",
      "metadata": {
        "colab": {
          "base_uri": "https://localhost:8080/"
        },
        "id": "a1189b3e-53b9-429e-b72e-3973bb0c7736",
        "outputId": "e4fa62be-15fe-4c45-8831-d133cac8877c"
      },
      "outputs": [
        {
          "output_type": "stream",
          "name": "stdout",
          "text": [
            "+-------+-------+--------------------+--------------------+--------------------+--------------------+------------------+------------+------+---------+--------------------+--------------------+\n",
            "|show_id|   type|               title|            director|                cast|             country|        date_added|release_year|rating| duration|           listed_in|         description|\n",
            "+-------+-------+--------------------+--------------------+--------------------+--------------------+------------------+------------+------+---------+--------------------+--------------------+\n",
            "|     s1|  Movie|Dick Johnson Is Dead|     Kirsten Johnson|                NULL|       United States|September 25, 2021|        2020| PG-13|   90 min|       Documentaries|As her father nea...|\n",
            "|     s2|TV Show|       Blood & Water|                NULL|Ama Qamata, Khosi...|        South Africa|September 24, 2021|        2021| TV-MA|2 Seasons|International TV ...|After crossing pa...|\n",
            "|     s3|TV Show|           Ganglands|     Julien Leclercq|Sami Bouajila, Tr...|                NULL|September 24, 2021|        2021| TV-MA| 1 Season|Crime TV Shows, I...|To protect his fa...|\n",
            "|     s4|TV Show|Jailbirds New Orl...|                NULL|                NULL|                NULL|September 24, 2021|        2021| TV-MA| 1 Season|Docuseries, Reali...|Feuds, flirtation...|\n",
            "|     s5|TV Show|        Kota Factory|                NULL|Mayur More, Jiten...|               India|September 24, 2021|        2021| TV-MA|2 Seasons|International TV ...|In a city of coac...|\n",
            "|     s6|TV Show|       Midnight Mass|       Mike Flanagan|Kate Siegel, Zach...|                NULL|September 24, 2021|        2021| TV-MA| 1 Season|TV Dramas, TV Hor...|The arrival of a ...|\n",
            "|     s7|  Movie|My Little Pony: A...|Robert Cullen, Jo...|Vanessa Hudgens, ...|                NULL|September 24, 2021|        2021|    PG|   91 min|Children & Family...|Equestria's divid...|\n",
            "|     s8|  Movie|             Sankofa|        Haile Gerima|Kofi Ghanaba, Oya...|United States, Gh...|September 24, 2021|        1993| TV-MA|  125 min|Dramas, Independe...|On a photo shoot ...|\n",
            "|     s9|TV Show|The Great British...|     Andy Devonshire|Mel Giedroyc, Sue...|      United Kingdom|September 24, 2021|        2021| TV-14|9 Seasons|British TV Shows,...|A talented batch ...|\n",
            "|    s10|  Movie|        The Starling|      Theodore Melfi|Melissa McCarthy,...|       United States|September 24, 2021|        2021| PG-13|  104 min|    Comedies, Dramas|A woman adjusting...|\n",
            "+-------+-------+--------------------+--------------------+--------------------+--------------------+------------------+------------+------+---------+--------------------+--------------------+\n",
            "only showing top 10 rows\n",
            "\n"
          ]
        }
      ],
      "source": [
        "df_netflix.show(10)"
      ]
    },
    {
      "cell_type": "markdown",
      "id": "4a09f099-309f-4fd0-9d42-2ff98618b19e",
      "metadata": {
        "id": "4a09f099-309f-4fd0-9d42-2ff98618b19e"
      },
      "source": [
        "Decidi pasar el Release_year a tipo INT"
      ]
    },
    {
      "cell_type": "code",
      "execution_count": 55,
      "id": "bfc70dd8-9b58-450d-8f03-784e0f21a785",
      "metadata": {
        "id": "bfc70dd8-9b58-450d-8f03-784e0f21a785"
      },
      "outputs": [],
      "source": [
        "df_netflix = df_netflix.withColumn(\"release_year\", col(\"release_year\").cast(\"integer\"))"
      ]
    },
    {
      "cell_type": "markdown",
      "source": [
        "## **Realizo las consultas**"
      ],
      "metadata": {
        "id": "vmnBO8ArlKgl"
      },
      "id": "vmnBO8ArlKgl"
    },
    {
      "cell_type": "markdown",
      "source": [
        "Contar los titulos lanzados por cada año y organizados de la actualidad hacia atras"
      ],
      "metadata": {
        "id": "74Z9UJiNmiSV"
      },
      "id": "74Z9UJiNmiSV"
    },
    {
      "cell_type": "code",
      "source": [
        "peliculas_por_ano = df_netflix.groupBy('release_year').count().orderBy('release_year', ascending=False).show()"
      ],
      "metadata": {
        "colab": {
          "base_uri": "https://localhost:8080/"
        },
        "id": "znw_L3UElOdZ",
        "outputId": "df54c90c-fd7a-4288-d15d-94f7ff205d05"
      },
      "id": "znw_L3UElOdZ",
      "execution_count": 56,
      "outputs": [
        {
          "output_type": "stream",
          "name": "stdout",
          "text": [
            "+------------+-----+\n",
            "|release_year|count|\n",
            "+------------+-----+\n",
            "|        2021|  589|\n",
            "|        2020|  952|\n",
            "|        2019| 1026|\n",
            "|        2018| 1145|\n",
            "|        2017| 1030|\n",
            "|        2016|  901|\n",
            "|        2015|  559|\n",
            "|        2014|  352|\n",
            "|        2013|  288|\n",
            "|        2012|  237|\n",
            "|        2011|  185|\n",
            "|        2010|  193|\n",
            "|        2009|  152|\n",
            "|        2008|  136|\n",
            "|        2007|   88|\n",
            "|        2006|   95|\n",
            "|        2005|   80|\n",
            "|        2004|   64|\n",
            "|        2003|   61|\n",
            "|        2002|   51|\n",
            "+------------+-----+\n",
            "only showing top 20 rows\n",
            "\n"
          ]
        }
      ]
    },
    {
      "cell_type": "markdown",
      "source": [
        "Obtener el año con mas titulos estrenados"
      ],
      "metadata": {
        "id": "DeGd8B0woa-j"
      },
      "id": "DeGd8B0woa-j"
    },
    {
      "cell_type": "code",
      "source": [
        "ano_max_estrenos = df_netflix.groupBy('release_year').count().orderBy('count', ascending=False).show(1)"
      ],
      "metadata": {
        "colab": {
          "base_uri": "https://localhost:8080/"
        },
        "id": "5lNaYs_Am6et",
        "outputId": "813162f6-50be-4856-955a-cc4719419257"
      },
      "id": "5lNaYs_Am6et",
      "execution_count": 57,
      "outputs": [
        {
          "output_type": "stream",
          "name": "stdout",
          "text": [
            "+------------+-----+\n",
            "|release_year|count|\n",
            "+------------+-----+\n",
            "|        2018| 1145|\n",
            "+------------+-----+\n",
            "only showing top 1 row\n",
            "\n"
          ]
        }
      ]
    },
    {
      "cell_type": "markdown",
      "source": [
        "Obtener la cantidad de estrenos por pais excluyendo a los NULL y ordenarlos de mayor a menor"
      ],
      "metadata": {
        "id": "0pAhuq6oqatp"
      },
      "id": "0pAhuq6oqatp"
    },
    {
      "cell_type": "code",
      "source": [
        "conteo_pais = df_netflix.filter(col('country').isNotNull()).groupBy('country').count().orderBy('count', ascending=False)\n",
        "conteo_pais.show()"
      ],
      "metadata": {
        "colab": {
          "base_uri": "https://localhost:8080/"
        },
        "id": "rOYxuGxTpPrV",
        "outputId": "a535eb5b-fd80-4ddc-a45e-616f08e85e61"
      },
      "id": "rOYxuGxTpPrV",
      "execution_count": 58,
      "outputs": [
        {
          "output_type": "stream",
          "name": "stdout",
          "text": [
            "+--------------------+-----+\n",
            "|             country|count|\n",
            "+--------------------+-----+\n",
            "|       United States| 2805|\n",
            "|               India|  972|\n",
            "|      United Kingdom|  419|\n",
            "|               Japan|  245|\n",
            "|         South Korea|  199|\n",
            "|              Canada|  181|\n",
            "|               Spain|  145|\n",
            "|              France|  123|\n",
            "|              Mexico|  110|\n",
            "|               Egypt|  106|\n",
            "|              Turkey|  105|\n",
            "|             Nigeria|   93|\n",
            "|           Australia|   87|\n",
            "|              Taiwan|   81|\n",
            "|           Indonesia|   79|\n",
            "|              Brazil|   77|\n",
            "|         Philippines|   75|\n",
            "|United Kingdom, U...|   75|\n",
            "|United States, Ca...|   73|\n",
            "|             Germany|   67|\n",
            "+--------------------+-----+\n",
            "only showing top 20 rows\n",
            "\n"
          ]
        }
      ]
    },
    {
      "cell_type": "markdown",
      "source": [
        "Obtener los estrenos por Director, desechando los NULL y ordenandolos de mayor a menor"
      ],
      "metadata": {
        "id": "DYTIX4o5rOTn"
      },
      "id": "DYTIX4o5rOTn"
    },
    {
      "cell_type": "code",
      "source": [
        "conteo_director = df_netflix.filter(col('director').isNotNull()).groupBy('director').count().orderBy('count', ascending=False)\n",
        "conteo_director.show(10)"
      ],
      "metadata": {
        "colab": {
          "base_uri": "https://localhost:8080/"
        },
        "id": "KjTC9phUp4KA",
        "outputId": "3cc3a472-5d48-4c02-a73e-b5fe4e3e28ef"
      },
      "id": "KjTC9phUp4KA",
      "execution_count": 59,
      "outputs": [
        {
          "output_type": "stream",
          "name": "stdout",
          "text": [
            "+--------------------+-----+\n",
            "|            director|count|\n",
            "+--------------------+-----+\n",
            "|       Rajiv Chilaka|   19|\n",
            "|Raúl Campos, Jan ...|   18|\n",
            "|        Marcus Raboy|   16|\n",
            "|         Suhas Kadav|   16|\n",
            "|           Jay Karas|   14|\n",
            "| Cathy Garcia-Molina|   13|\n",
            "|     Youssef Chahine|   12|\n",
            "|     Martin Scorsese|   12|\n",
            "|         Jay Chapman|   12|\n",
            "|    Steven Spielberg|   11|\n",
            "+--------------------+-----+\n",
            "only showing top 10 rows\n",
            "\n"
          ]
        }
      ]
    },
    {
      "cell_type": "markdown",
      "source": [
        "Conteo de títulos por cada rating excluyendo a los NULL y dejando el TOP 10"
      ],
      "metadata": {
        "id": "10Ke9prDr2iM"
      },
      "id": "10Ke9prDr2iM"
    },
    {
      "cell_type": "code",
      "source": [
        "conteo_rating = df_netflix.filter(col(\"rating\").isNotNull()).groupBy('rating').count().orderBy('count', ascending=False)\n",
        "conteo_rating.show(10)"
      ],
      "metadata": {
        "colab": {
          "base_uri": "https://localhost:8080/"
        },
        "id": "LqQ7dZIhqujf",
        "outputId": "b0ba09aa-5186-4f23-fb45-5bb281b06b3b"
      },
      "id": "LqQ7dZIhqujf",
      "execution_count": 61,
      "outputs": [
        {
          "output_type": "stream",
          "name": "stdout",
          "text": [
            "+------+-----+\n",
            "|rating|count|\n",
            "+------+-----+\n",
            "| TV-MA| 3195|\n",
            "| TV-14| 2158|\n",
            "| TV-PG|  862|\n",
            "|     R|  796|\n",
            "| PG-13|  489|\n",
            "| TV-Y7|  334|\n",
            "|  TV-Y|  307|\n",
            "|    PG|  286|\n",
            "|  TV-G|  220|\n",
            "|    NR|   80|\n",
            "+------+-----+\n",
            "only showing top 10 rows\n",
            "\n"
          ]
        }
      ]
    },
    {
      "cell_type": "code",
      "source": [
        "spark.stop()"
      ],
      "metadata": {
        "id": "wcjwo3scr9cC"
      },
      "id": "wcjwo3scr9cC",
      "execution_count": 43,
      "outputs": []
    }
  ],
  "metadata": {
    "kernelspec": {
      "display_name": "Python 3 (ipykernel)",
      "language": "python",
      "name": "python3"
    },
    "language_info": {
      "codemirror_mode": {
        "name": "ipython",
        "version": 3
      },
      "file_extension": ".py",
      "mimetype": "text/x-python",
      "name": "python",
      "nbconvert_exporter": "python",
      "pygments_lexer": "ipython3",
      "version": "3.11.6"
    },
    "colab": {
      "provenance": []
    }
  },
  "nbformat": 4,
  "nbformat_minor": 5
}